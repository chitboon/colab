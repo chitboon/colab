{
  "nbformat": 4,
  "nbformat_minor": 0,
  "metadata": {
    "colab": {
      "name": "Submission1.ipynb",
      "version": "0.3.2",
      "provenance": [],
      "include_colab_link": true
    },
    "kernelspec": {
      "name": "python3",
      "display_name": "Python 3"
    }
  },
  "cells": [
    {
      "cell_type": "markdown",
      "metadata": {
        "id": "view-in-github",
        "colab_type": "text"
      },
      "source": [
        "<a href=\"https://colab.research.google.com/github/chitboon/colab/blob/master/Submission1.ipynb\" target=\"_parent\"><img src=\"https://colab.research.google.com/assets/colab-badge.svg\" alt=\"Open In Colab\"/></a>"
      ]
    },
    {
      "metadata": {
        "id": "3NBjrxpxOQND",
        "colab_type": "code",
        "colab": {}
      },
      "cell_type": "code",
      "source": [
        ""
      ],
      "execution_count": 0,
      "outputs": []
    },
    {
      "metadata": {
        "id": "Cj0DTHlsORQS",
        "colab_type": "text"
      },
      "cell_type": "markdown",
      "source": [
        "# Submission #1 - Classes, Objects and Methods\n",
        "\n",
        "Create a program to simulate the tossing of a coin.  In the program, we need to repeatedly toss the coin and determine whether it landed heads up or tails up.  We will write a class Coin that can perform the behaviours of the coin.  You should apply encapsulation whenever possible.  In this class, you should have the following methods:\n",
        "\n",
        "*   An initializer with no parameter, that defines a data attribute, sideup, and initializes it with ‘Heads’.\n",
        "*   A method, toss() with no parameter, that generates a random number in the range of 0 through 1.  If the number is 0, then data attribute sideup is set to ‘Heads’.  Otherwise, sideup is set to ‘Tails’.  It should print ‘I am tossing the coin …’ too.\n",
        "*  An accessor method, get_sideup() that returns the value of data attribute, sideup.\n",
        "\n",
        "Complete the Con class below and run it:"
      ]
    },
    {
      "metadata": {
        "id": "NxpX_4tUO0uK",
        "colab_type": "code",
        "colab": {}
      },
      "cell_type": "code",
      "source": [
        "# import random generator\n",
        "import random\n",
        "\n",
        "class Coin:\n",
        "  # __init__ with no parameter, 1 data attribute, sideup that initializes to 'Heads'\n",
        "  def __init__(self):\n",
        "    self.__sideup = 'Heads'\n",
        "  \n",
        "  # toss() method with no parameter, generates a random 0 or 1.  sideup set to Heads if 0 \n",
        "  def toss(self):\n",
        "      print('I am tossing the coin ... ')\n",
        "      if (random.randint(0,1) == 0 ):\n",
        "          self.__sideup = 'Heads'\n",
        "      else:\n",
        "          self.__sideup = 'Tails'\n",
        "      print(self.__sideup) \n",
        "  \n",
        "  # get_sideup() accessor method\n",
        "  def get_sideup(self):\n",
        "    return self.__sideup\n",
        "\n",
        "  \n",
        "\n",
        "  "
      ],
      "execution_count": 0,
      "outputs": []
    },
    {
      "metadata": {
        "id": "SXysFHlxRAkp",
        "colab_type": "text"
      },
      "cell_type": "markdown",
      "source": [
        "Creates a main() function that uses the Coin class to simulate the tossing of coin and run the function\n",
        "\n",
        "\n",
        "1.   Instantiate a coin object from Coin class\n",
        "2.   Display the side of the coin that is facing up at the start\n",
        "3.   Toss the coin\n",
        "4.   Display the side of the coin that is facing up again\n",
        "\n",
        "Sample output is given below:\n",
        "\n",
        "```\n",
        "Heads\n",
        "I am tossing the coin …\n",
        "Tails\n",
        "```"
      ]
    },
    {
      "metadata": {
        "id": "gMNkgS_KV_0_",
        "colab_type": "code",
        "colab": {}
      },
      "cell_type": "code",
      "source": [
        "def main():\n",
        "  # Create an instance from Coin class\n",
        "  coin = Coin()\n",
        "  \n",
        "  \n",
        "  # Display the side of the coin that is facing up\n",
        "  print(coin.get_sideup())\n",
        "  \n",
        "  \n",
        "  # Toss the coin and display\n",
        "  coin.toss()\n",
        "  \n",
        "\n",
        "  \n",
        "main()"
      ],
      "execution_count": 0,
      "outputs": []
    },
    {
      "metadata": {
        "id": "V4t4VyNZkDQ2",
        "colab_type": "text"
      },
      "cell_type": "markdown",
      "source": [
        "Creates another function, calculate() that allows user to calculate the probability of getting sideup to be Heads, after tossing the coin for x number of times, where x is number provided by user.\n",
        "\n",
        "Sample output is given below:\n",
        "\n",
        "\n",
        "\n",
        "```\n",
        "Enter the number of times to flip the coin: 5\n",
        "I am tossing the coin ... \n",
        "Heads\n",
        "I am tossing the coin ... \n",
        "Heads\n",
        "I am tossing the coin ... \n",
        "Heads\n",
        "I am tossing the coin ... \n",
        "Heads\n",
        "I am tossing the coin ... \n",
        "Heads\n",
        "Result : 5 heads out of 5\n",
        "```\n"
      ]
    },
    {
      "metadata": {
        "id": "tDxsl9ozsLfZ",
        "colab_type": "code",
        "colab": {
          "base_uri": "https://localhost:8080/",
          "height": 561
        },
        "outputId": "51ac7b1f-731d-44b7-f0a7-d824af8ececf"
      },
      "cell_type": "code",
      "source": [
        "def calculate():\n",
        "  # complete the function here\n",
        "  count = 0\n",
        "  total = int(input('Enter the number of times to flip the coin: '))\n",
        "  for i in range(total):\n",
        "      coin = Coin()\n",
        "      coin.toss()\n",
        "      if coin.get_sideup() == 'Heads':\n",
        "          count += 1\n",
        "  print('Result : {} heads out of {}'.format(count, total))  \n",
        "  \n",
        "calculate()"
      ],
      "execution_count": 5,
      "outputs": [
        {
          "output_type": "stream",
          "text": [
            "Enter the number of times to flip the coin: 15\n",
            "I am tossing the coin ... \n",
            "Heads\n",
            "I am tossing the coin ... \n",
            "Heads\n",
            "I am tossing the coin ... \n",
            "Tails\n",
            "I am tossing the coin ... \n",
            "Tails\n",
            "I am tossing the coin ... \n",
            "Heads\n",
            "I am tossing the coin ... \n",
            "Tails\n",
            "I am tossing the coin ... \n",
            "Tails\n",
            "I am tossing the coin ... \n",
            "Heads\n",
            "I am tossing the coin ... \n",
            "Tails\n",
            "I am tossing the coin ... \n",
            "Tails\n",
            "I am tossing the coin ... \n",
            "Heads\n",
            "I am tossing the coin ... \n",
            "Heads\n",
            "I am tossing the coin ... \n",
            "Tails\n",
            "I am tossing the coin ... \n",
            "Tails\n",
            "I am tossing the coin ... \n",
            "Tails\n",
            "Result : 6 heads out of 15\n"
          ],
          "name": "stdout"
        }
      ]
    }
  ]
}